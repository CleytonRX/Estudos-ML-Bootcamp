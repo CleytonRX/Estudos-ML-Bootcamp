{
 "cells": [
  {
   "cell_type": "markdown",
   "id": "9b6f01cb",
   "metadata": {
    "papermill": {
     "duration": 0.015888,
     "end_time": "2022-08-01T01:04:09.514890",
     "exception": false,
     "start_time": "2022-08-01T01:04:09.499002",
     "status": "completed"
    },
    "tags": []
   },
   "source": [
    "# Pandas Practice\n",
    "\n",
    "This notebook is dedicated to practicing different tasks with pandas. The solutions are available in a solutions notebook, however, you should always try to figure them out yourself first.\n",
    "\n",
    "It should be noted there may be more than one different way to answer a question or complete an exercise.\n",
    "\n",
    "Exercises are based off (and directly taken from) the quick introduction to pandas notebook.\n",
    "\n",
    "Different tasks will be detailed by comments or text.\n",
    "\n",
    "For further reference and resources, it's advised to check out the [pandas documentation](https://pandas.pydata.org/pandas-docs/stable/)."
   ]
  },
  {
   "cell_type": "code",
   "execution_count": 1,
   "id": "125032fa",
   "metadata": {
    "execution": {
     "iopub.execute_input": "2022-08-01T01:04:09.546723Z",
     "iopub.status.busy": "2022-08-01T01:04:09.545967Z",
     "iopub.status.idle": "2022-08-01T01:04:09.557833Z",
     "shell.execute_reply": "2022-08-01T01:04:09.556868Z"
    },
    "papermill": {
     "duration": 0.030294,
     "end_time": "2022-08-01T01:04:09.560320",
     "exception": false,
     "start_time": "2022-08-01T01:04:09.530026",
     "status": "completed"
    },
    "tags": []
   },
   "outputs": [],
   "source": [
    "# Import pandas\n",
    "import pandas as pd"
   ]
  },
  {
   "cell_type": "code",
   "execution_count": 2,
   "id": "57ed61ea",
   "metadata": {
    "execution": {
     "iopub.execute_input": "2022-08-01T01:04:09.592179Z",
     "iopub.status.busy": "2022-08-01T01:04:09.591499Z",
     "iopub.status.idle": "2022-08-01T01:04:09.599354Z",
     "shell.execute_reply": "2022-08-01T01:04:09.598529Z"
    },
    "papermill": {
     "duration": 0.0263,
     "end_time": "2022-08-01T01:04:09.601489",
     "exception": false,
     "start_time": "2022-08-01T01:04:09.575189",
     "status": "completed"
    },
    "tags": []
   },
   "outputs": [],
   "source": [
    "# Create a series of three different colours\n",
    "df_colours = pd.Series(['red', 'blue', 'green'])\n"
   ]
  },
  {
   "cell_type": "code",
   "execution_count": 3,
   "id": "c4523336",
   "metadata": {
    "execution": {
     "iopub.execute_input": "2022-08-01T01:04:09.634458Z",
     "iopub.status.busy": "2022-08-01T01:04:09.633841Z",
     "iopub.status.idle": "2022-08-01T01:04:09.642397Z",
     "shell.execute_reply": "2022-08-01T01:04:09.641744Z"
    },
    "papermill": {
     "duration": 0.025925,
     "end_time": "2022-08-01T01:04:09.644301",
     "exception": false,
     "start_time": "2022-08-01T01:04:09.618376",
     "status": "completed"
    },
    "tags": []
   },
   "outputs": [
    {
     "data": {
      "text/plain": [
       "0      red\n",
       "1     blue\n",
       "2    green\n",
       "dtype: object"
      ]
     },
     "execution_count": 3,
     "metadata": {},
     "output_type": "execute_result"
    }
   ],
   "source": [
    "# View the series of different colours\n",
    "df_colours"
   ]
  },
  {
   "cell_type": "code",
   "execution_count": 4,
   "id": "2e52970e",
   "metadata": {
    "execution": {
     "iopub.execute_input": "2022-08-01T01:04:09.676354Z",
     "iopub.status.busy": "2022-08-01T01:04:09.675657Z",
     "iopub.status.idle": "2022-08-01T01:04:09.682970Z",
     "shell.execute_reply": "2022-08-01T01:04:09.682160Z"
    },
    "papermill": {
     "duration": 0.025541,
     "end_time": "2022-08-01T01:04:09.684949",
     "exception": false,
     "start_time": "2022-08-01T01:04:09.659408",
     "status": "completed"
    },
    "tags": []
   },
   "outputs": [
    {
     "data": {
      "text/plain": [
       "0       Nissan GTR\n",
       "1    Civic Touring\n",
       "2        Honda Fit\n",
       "dtype: object"
      ]
     },
     "execution_count": 4,
     "metadata": {},
     "output_type": "execute_result"
    }
   ],
   "source": [
    "# Create a series of three different car types and view it\n",
    "df_cars = pd.Series(['Nissan GTR', 'Civic Touring', 'Honda Fit'])\n",
    "df_cars"
   ]
  },
  {
   "cell_type": "code",
   "execution_count": 5,
   "id": "56d538a3",
   "metadata": {
    "execution": {
     "iopub.execute_input": "2022-08-01T01:04:09.716207Z",
     "iopub.status.busy": "2022-08-01T01:04:09.715586Z",
     "iopub.status.idle": "2022-08-01T01:04:09.732268Z",
     "shell.execute_reply": "2022-08-01T01:04:09.731560Z"
    },
    "papermill": {
     "duration": 0.034905,
     "end_time": "2022-08-01T01:04:09.734292",
     "exception": false,
     "start_time": "2022-08-01T01:04:09.699387",
     "status": "completed"
    },
    "tags": []
   },
   "outputs": [
    {
     "data": {
      "text/html": [
       "<div>\n",
       "<style scoped>\n",
       "    .dataframe tbody tr th:only-of-type {\n",
       "        vertical-align: middle;\n",
       "    }\n",
       "\n",
       "    .dataframe tbody tr th {\n",
       "        vertical-align: top;\n",
       "    }\n",
       "\n",
       "    .dataframe thead th {\n",
       "        text-align: right;\n",
       "    }\n",
       "</style>\n",
       "<table border=\"1\" class=\"dataframe\">\n",
       "  <thead>\n",
       "    <tr style=\"text-align: right;\">\n",
       "      <th></th>\n",
       "      <th>Car Model</th>\n",
       "      <th>Colours</th>\n",
       "    </tr>\n",
       "  </thead>\n",
       "  <tbody>\n",
       "    <tr>\n",
       "      <th>0</th>\n",
       "      <td>Nissan GTR</td>\n",
       "      <td>red</td>\n",
       "    </tr>\n",
       "    <tr>\n",
       "      <th>1</th>\n",
       "      <td>Civic Touring</td>\n",
       "      <td>blue</td>\n",
       "    </tr>\n",
       "    <tr>\n",
       "      <th>2</th>\n",
       "      <td>Honda Fit</td>\n",
       "      <td>green</td>\n",
       "    </tr>\n",
       "  </tbody>\n",
       "</table>\n",
       "</div>"
      ],
      "text/plain": [
       "       Car Model Colours\n",
       "0     Nissan GTR     red\n",
       "1  Civic Touring    blue\n",
       "2      Honda Fit   green"
      ]
     },
     "execution_count": 5,
     "metadata": {},
     "output_type": "execute_result"
    }
   ],
   "source": [
    "# Combine the Series of cars and colours into a DataFrame\n",
    "df_auto = pd.DataFrame({\"Car Model\": df_cars, \"Colours\": df_colours})\n",
    "df_auto"
   ]
  },
  {
   "cell_type": "code",
   "execution_count": 6,
   "id": "0069d6db",
   "metadata": {
    "execution": {
     "iopub.execute_input": "2022-08-01T01:04:09.766756Z",
     "iopub.status.busy": "2022-08-01T01:04:09.766081Z",
     "iopub.status.idle": "2022-08-01T01:04:09.789425Z",
     "shell.execute_reply": "2022-08-01T01:04:09.788687Z"
    },
    "papermill": {
     "duration": 0.041724,
     "end_time": "2022-08-01T01:04:09.791462",
     "exception": false,
     "start_time": "2022-08-01T01:04:09.749738",
     "status": "completed"
    },
    "tags": []
   },
   "outputs": [
    {
     "data": {
      "text/html": [
       "<div>\n",
       "<style scoped>\n",
       "    .dataframe tbody tr th:only-of-type {\n",
       "        vertical-align: middle;\n",
       "    }\n",
       "\n",
       "    .dataframe tbody tr th {\n",
       "        vertical-align: top;\n",
       "    }\n",
       "\n",
       "    .dataframe thead th {\n",
       "        text-align: right;\n",
       "    }\n",
       "</style>\n",
       "<table border=\"1\" class=\"dataframe\">\n",
       "  <thead>\n",
       "    <tr style=\"text-align: right;\">\n",
       "      <th></th>\n",
       "      <th>Make</th>\n",
       "      <th>Colour</th>\n",
       "      <th>Odometer (KM)</th>\n",
       "      <th>Doors</th>\n",
       "      <th>Price</th>\n",
       "    </tr>\n",
       "  </thead>\n",
       "  <tbody>\n",
       "    <tr>\n",
       "      <th>0</th>\n",
       "      <td>Toyota</td>\n",
       "      <td>White</td>\n",
       "      <td>150043</td>\n",
       "      <td>4</td>\n",
       "      <td>$4,000.00</td>\n",
       "    </tr>\n",
       "    <tr>\n",
       "      <th>1</th>\n",
       "      <td>Honda</td>\n",
       "      <td>Red</td>\n",
       "      <td>87899</td>\n",
       "      <td>4</td>\n",
       "      <td>$5,000.00</td>\n",
       "    </tr>\n",
       "    <tr>\n",
       "      <th>2</th>\n",
       "      <td>Toyota</td>\n",
       "      <td>Blue</td>\n",
       "      <td>32549</td>\n",
       "      <td>3</td>\n",
       "      <td>$7,000.00</td>\n",
       "    </tr>\n",
       "    <tr>\n",
       "      <th>3</th>\n",
       "      <td>BMW</td>\n",
       "      <td>Black</td>\n",
       "      <td>11179</td>\n",
       "      <td>5</td>\n",
       "      <td>$22,000.00</td>\n",
       "    </tr>\n",
       "    <tr>\n",
       "      <th>4</th>\n",
       "      <td>Nissan</td>\n",
       "      <td>White</td>\n",
       "      <td>213095</td>\n",
       "      <td>4</td>\n",
       "      <td>$3,500.00</td>\n",
       "    </tr>\n",
       "    <tr>\n",
       "      <th>5</th>\n",
       "      <td>Toyota</td>\n",
       "      <td>Green</td>\n",
       "      <td>99213</td>\n",
       "      <td>4</td>\n",
       "      <td>$4,500.00</td>\n",
       "    </tr>\n",
       "    <tr>\n",
       "      <th>6</th>\n",
       "      <td>Honda</td>\n",
       "      <td>Blue</td>\n",
       "      <td>45698</td>\n",
       "      <td>4</td>\n",
       "      <td>$7,500.00</td>\n",
       "    </tr>\n",
       "    <tr>\n",
       "      <th>7</th>\n",
       "      <td>Honda</td>\n",
       "      <td>Blue</td>\n",
       "      <td>54738</td>\n",
       "      <td>4</td>\n",
       "      <td>$7,000.00</td>\n",
       "    </tr>\n",
       "    <tr>\n",
       "      <th>8</th>\n",
       "      <td>Toyota</td>\n",
       "      <td>White</td>\n",
       "      <td>60000</td>\n",
       "      <td>4</td>\n",
       "      <td>$6,250.00</td>\n",
       "    </tr>\n",
       "    <tr>\n",
       "      <th>9</th>\n",
       "      <td>Nissan</td>\n",
       "      <td>White</td>\n",
       "      <td>31600</td>\n",
       "      <td>4</td>\n",
       "      <td>$9,700.00</td>\n",
       "    </tr>\n",
       "  </tbody>\n",
       "</table>\n",
       "</div>"
      ],
      "text/plain": [
       "     Make Colour  Odometer (KM)  Doors       Price\n",
       "0  Toyota  White         150043      4   $4,000.00\n",
       "1   Honda    Red          87899      4   $5,000.00\n",
       "2  Toyota   Blue          32549      3   $7,000.00\n",
       "3     BMW  Black          11179      5  $22,000.00\n",
       "4  Nissan  White         213095      4   $3,500.00\n",
       "5  Toyota  Green          99213      4   $4,500.00\n",
       "6   Honda   Blue          45698      4   $7,500.00\n",
       "7   Honda   Blue          54738      4   $7,000.00\n",
       "8  Toyota  White          60000      4   $6,250.00\n",
       "9  Nissan  White          31600      4   $9,700.00"
      ]
     },
     "execution_count": 6,
     "metadata": {},
     "output_type": "execute_result"
    }
   ],
   "source": [
    "# Import \"../data/car-sales.csv\" and turn it into a DataFrame\n",
    "df = pd.read_csv('../input/car-sales/car-sales.csv')\n",
    "df"
   ]
  },
  {
   "cell_type": "markdown",
   "id": "2eaeb8e1",
   "metadata": {
    "papermill": {
     "duration": 0.015043,
     "end_time": "2022-08-01T01:04:09.822487",
     "exception": false,
     "start_time": "2022-08-01T01:04:09.807444",
     "status": "completed"
    },
    "tags": []
   },
   "source": [
    "**Note:** Since you've imported `../data/car-sales.csv` as a DataFrame, we'll now refer to this DataFrame as 'the car sales DataFrame'."
   ]
  },
  {
   "cell_type": "code",
   "execution_count": 7,
   "id": "f4f55400",
   "metadata": {
    "execution": {
     "iopub.execute_input": "2022-08-01T01:04:09.854311Z",
     "iopub.status.busy": "2022-08-01T01:04:09.853610Z",
     "iopub.status.idle": "2022-08-01T01:04:09.860251Z",
     "shell.execute_reply": "2022-08-01T01:04:09.859552Z"
    },
    "papermill": {
     "duration": 0.024955,
     "end_time": "2022-08-01T01:04:09.862570",
     "exception": false,
     "start_time": "2022-08-01T01:04:09.837615",
     "status": "completed"
    },
    "tags": []
   },
   "outputs": [],
   "source": [
    "# Export the DataFrame you created to a .csv file\n",
    "df.to_csv(\"df-car-sales-exported\", index=False)\n"
   ]
  },
  {
   "cell_type": "code",
   "execution_count": 8,
   "id": "897f5c0d",
   "metadata": {
    "execution": {
     "iopub.execute_input": "2022-08-01T01:04:09.896754Z",
     "iopub.status.busy": "2022-08-01T01:04:09.896099Z",
     "iopub.status.idle": "2022-08-01T01:04:09.903000Z",
     "shell.execute_reply": "2022-08-01T01:04:09.902285Z"
    },
    "papermill": {
     "duration": 0.025986,
     "end_time": "2022-08-01T01:04:09.905000",
     "exception": false,
     "start_time": "2022-08-01T01:04:09.879014",
     "status": "completed"
    },
    "tags": []
   },
   "outputs": [
    {
     "data": {
      "text/plain": [
       "Make             object\n",
       "Colour           object\n",
       "Odometer (KM)     int64\n",
       "Doors             int64\n",
       "Price            object\n",
       "dtype: object"
      ]
     },
     "execution_count": 8,
     "metadata": {},
     "output_type": "execute_result"
    }
   ],
   "source": [
    "# Find the different datatypes of the car data DataFrame\n",
    "df.dtypes"
   ]
  },
  {
   "cell_type": "code",
   "execution_count": 9,
   "id": "c0fd2a1d",
   "metadata": {
    "execution": {
     "iopub.execute_input": "2022-08-01T01:04:09.937709Z",
     "iopub.status.busy": "2022-08-01T01:04:09.936999Z",
     "iopub.status.idle": "2022-08-01T01:04:09.963488Z",
     "shell.execute_reply": "2022-08-01T01:04:09.962748Z"
    },
    "papermill": {
     "duration": 0.045389,
     "end_time": "2022-08-01T01:04:09.965641",
     "exception": false,
     "start_time": "2022-08-01T01:04:09.920252",
     "status": "completed"
    },
    "tags": []
   },
   "outputs": [
    {
     "data": {
      "text/html": [
       "<div>\n",
       "<style scoped>\n",
       "    .dataframe tbody tr th:only-of-type {\n",
       "        vertical-align: middle;\n",
       "    }\n",
       "\n",
       "    .dataframe tbody tr th {\n",
       "        vertical-align: top;\n",
       "    }\n",
       "\n",
       "    .dataframe thead th {\n",
       "        text-align: right;\n",
       "    }\n",
       "</style>\n",
       "<table border=\"1\" class=\"dataframe\">\n",
       "  <thead>\n",
       "    <tr style=\"text-align: right;\">\n",
       "      <th></th>\n",
       "      <th>Odometer (KM)</th>\n",
       "      <th>Doors</th>\n",
       "    </tr>\n",
       "  </thead>\n",
       "  <tbody>\n",
       "    <tr>\n",
       "      <th>count</th>\n",
       "      <td>10.000000</td>\n",
       "      <td>10.000000</td>\n",
       "    </tr>\n",
       "    <tr>\n",
       "      <th>mean</th>\n",
       "      <td>78601.400000</td>\n",
       "      <td>4.000000</td>\n",
       "    </tr>\n",
       "    <tr>\n",
       "      <th>std</th>\n",
       "      <td>61983.471735</td>\n",
       "      <td>0.471405</td>\n",
       "    </tr>\n",
       "    <tr>\n",
       "      <th>min</th>\n",
       "      <td>11179.000000</td>\n",
       "      <td>3.000000</td>\n",
       "    </tr>\n",
       "    <tr>\n",
       "      <th>25%</th>\n",
       "      <td>35836.250000</td>\n",
       "      <td>4.000000</td>\n",
       "    </tr>\n",
       "    <tr>\n",
       "      <th>50%</th>\n",
       "      <td>57369.000000</td>\n",
       "      <td>4.000000</td>\n",
       "    </tr>\n",
       "    <tr>\n",
       "      <th>75%</th>\n",
       "      <td>96384.500000</td>\n",
       "      <td>4.000000</td>\n",
       "    </tr>\n",
       "    <tr>\n",
       "      <th>max</th>\n",
       "      <td>213095.000000</td>\n",
       "      <td>5.000000</td>\n",
       "    </tr>\n",
       "  </tbody>\n",
       "</table>\n",
       "</div>"
      ],
      "text/plain": [
       "       Odometer (KM)      Doors\n",
       "count      10.000000  10.000000\n",
       "mean    78601.400000   4.000000\n",
       "std     61983.471735   0.471405\n",
       "min     11179.000000   3.000000\n",
       "25%     35836.250000   4.000000\n",
       "50%     57369.000000   4.000000\n",
       "75%     96384.500000   4.000000\n",
       "max    213095.000000   5.000000"
      ]
     },
     "execution_count": 9,
     "metadata": {},
     "output_type": "execute_result"
    }
   ],
   "source": [
    "# Describe your current car sales DataFrame using describe()\n",
    "df.describe()"
   ]
  },
  {
   "cell_type": "code",
   "execution_count": 10,
   "id": "5399a8e6",
   "metadata": {
    "execution": {
     "iopub.execute_input": "2022-08-01T01:04:10.000384Z",
     "iopub.status.busy": "2022-08-01T01:04:09.999694Z",
     "iopub.status.idle": "2022-08-01T01:04:10.014334Z",
     "shell.execute_reply": "2022-08-01T01:04:10.013213Z"
    },
    "papermill": {
     "duration": 0.034793,
     "end_time": "2022-08-01T01:04:10.016700",
     "exception": false,
     "start_time": "2022-08-01T01:04:09.981907",
     "status": "completed"
    },
    "tags": []
   },
   "outputs": [
    {
     "name": "stdout",
     "output_type": "stream",
     "text": [
      "<class 'pandas.core.frame.DataFrame'>\n",
      "RangeIndex: 10 entries, 0 to 9\n",
      "Data columns (total 5 columns):\n",
      " #   Column         Non-Null Count  Dtype \n",
      "---  ------         --------------  ----- \n",
      " 0   Make           10 non-null     object\n",
      " 1   Colour         10 non-null     object\n",
      " 2   Odometer (KM)  10 non-null     int64 \n",
      " 3   Doors          10 non-null     int64 \n",
      " 4   Price          10 non-null     object\n",
      "dtypes: int64(2), object(3)\n",
      "memory usage: 528.0+ bytes\n"
     ]
    }
   ],
   "source": [
    "# Get information about your DataFrame using info()\n",
    "df.info()"
   ]
  },
  {
   "cell_type": "markdown",
   "id": "d4de9a2e",
   "metadata": {
    "papermill": {
     "duration": 0.01657,
     "end_time": "2022-08-01T01:04:10.049321",
     "exception": false,
     "start_time": "2022-08-01T01:04:10.032751",
     "status": "completed"
    },
    "tags": []
   },
   "source": [
    "What does it show you?"
   ]
  },
  {
   "cell_type": "code",
   "execution_count": 11,
   "id": "2ea3dce6",
   "metadata": {
    "execution": {
     "iopub.execute_input": "2022-08-01T01:04:10.083540Z",
     "iopub.status.busy": "2022-08-01T01:04:10.082788Z",
     "iopub.status.idle": "2022-08-01T01:04:10.090097Z",
     "shell.execute_reply": "2022-08-01T01:04:10.089334Z"
    },
    "papermill": {
     "duration": 0.026939,
     "end_time": "2022-08-01T01:04:10.092296",
     "exception": false,
     "start_time": "2022-08-01T01:04:10.065357",
     "status": "completed"
    },
    "tags": []
   },
   "outputs": [
    {
     "data": {
      "text/plain": [
       "6.2"
      ]
     },
     "execution_count": 11,
     "metadata": {},
     "output_type": "execute_result"
    }
   ],
   "source": [
    "# Create a Series of different numbers and find the mean of them\n",
    "df_numbers = pd.Series([3, 5, 5, 10, 8])\n",
    "df_numbers.mean()"
   ]
  },
  {
   "cell_type": "code",
   "execution_count": 12,
   "id": "0d7675dd",
   "metadata": {
    "execution": {
     "iopub.execute_input": "2022-08-01T01:04:10.127048Z",
     "iopub.status.busy": "2022-08-01T01:04:10.126359Z",
     "iopub.status.idle": "2022-08-01T01:04:10.133036Z",
     "shell.execute_reply": "2022-08-01T01:04:10.132297Z"
    },
    "papermill": {
     "duration": 0.026491,
     "end_time": "2022-08-01T01:04:10.135069",
     "exception": false,
     "start_time": "2022-08-01T01:04:10.108578",
     "status": "completed"
    },
    "tags": []
   },
   "outputs": [
    {
     "data": {
      "text/plain": [
       "11"
      ]
     },
     "execution_count": 12,
     "metadata": {},
     "output_type": "execute_result"
    }
   ],
   "source": [
    "# Create a Series of different numbers and find the sum of them\n",
    "df_sum = pd.Series([1, 2, 3, 5])\n",
    "df_sum.sum()"
   ]
  },
  {
   "cell_type": "code",
   "execution_count": 13,
   "id": "880c6235",
   "metadata": {
    "execution": {
     "iopub.execute_input": "2022-08-01T01:04:10.170796Z",
     "iopub.status.busy": "2022-08-01T01:04:10.170366Z",
     "iopub.status.idle": "2022-08-01T01:04:10.176147Z",
     "shell.execute_reply": "2022-08-01T01:04:10.175368Z"
    },
    "papermill": {
     "duration": 0.026564,
     "end_time": "2022-08-01T01:04:10.178265",
     "exception": false,
     "start_time": "2022-08-01T01:04:10.151701",
     "status": "completed"
    },
    "tags": []
   },
   "outputs": [
    {
     "data": {
      "text/plain": [
       "Index(['Make', 'Colour', 'Odometer (KM)', 'Doors', 'Price'], dtype='object')"
      ]
     },
     "execution_count": 13,
     "metadata": {},
     "output_type": "execute_result"
    }
   ],
   "source": [
    "# List out all the column names of the car sales DataFrame\n",
    "df.columns"
   ]
  },
  {
   "cell_type": "code",
   "execution_count": 14,
   "id": "bbf13aff",
   "metadata": {
    "execution": {
     "iopub.execute_input": "2022-08-01T01:04:10.213027Z",
     "iopub.status.busy": "2022-08-01T01:04:10.212459Z",
     "iopub.status.idle": "2022-08-01T01:04:10.223215Z",
     "shell.execute_reply": "2022-08-01T01:04:10.221934Z"
    },
    "papermill": {
     "duration": 0.030971,
     "end_time": "2022-08-01T01:04:10.225859",
     "exception": false,
     "start_time": "2022-08-01T01:04:10.194888",
     "status": "completed"
    },
    "tags": []
   },
   "outputs": [
    {
     "name": "stdout",
     "output_type": "stream",
     "text": [
      "<class 'pandas.core.frame.DataFrame'>\n",
      "RangeIndex: 10 entries, 0 to 9\n",
      "Data columns (total 5 columns):\n",
      " #   Column         Non-Null Count  Dtype \n",
      "---  ------         --------------  ----- \n",
      " 0   Make           10 non-null     object\n",
      " 1   Colour         10 non-null     object\n",
      " 2   Odometer (KM)  10 non-null     int64 \n",
      " 3   Doors          10 non-null     int64 \n",
      " 4   Price          10 non-null     object\n",
      "dtypes: int64(2), object(3)\n",
      "memory usage: 528.0+ bytes\n"
     ]
    }
   ],
   "source": [
    "# Find the length of the car sales DataFrame\n",
    "df.info()"
   ]
  },
  {
   "cell_type": "code",
   "execution_count": 15,
   "id": "5e979766",
   "metadata": {
    "execution": {
     "iopub.execute_input": "2022-08-01T01:04:10.260287Z",
     "iopub.status.busy": "2022-08-01T01:04:10.259938Z",
     "iopub.status.idle": "2022-08-01T01:04:10.270874Z",
     "shell.execute_reply": "2022-08-01T01:04:10.270183Z"
    },
    "papermill": {
     "duration": 0.030125,
     "end_time": "2022-08-01T01:04:10.272791",
     "exception": false,
     "start_time": "2022-08-01T01:04:10.242666",
     "status": "completed"
    },
    "tags": []
   },
   "outputs": [
    {
     "data": {
      "text/html": [
       "<div>\n",
       "<style scoped>\n",
       "    .dataframe tbody tr th:only-of-type {\n",
       "        vertical-align: middle;\n",
       "    }\n",
       "\n",
       "    .dataframe tbody tr th {\n",
       "        vertical-align: top;\n",
       "    }\n",
       "\n",
       "    .dataframe thead th {\n",
       "        text-align: right;\n",
       "    }\n",
       "</style>\n",
       "<table border=\"1\" class=\"dataframe\">\n",
       "  <thead>\n",
       "    <tr style=\"text-align: right;\">\n",
       "      <th></th>\n",
       "      <th>Make</th>\n",
       "      <th>Colour</th>\n",
       "      <th>Odometer (KM)</th>\n",
       "      <th>Doors</th>\n",
       "      <th>Price</th>\n",
       "    </tr>\n",
       "  </thead>\n",
       "  <tbody>\n",
       "    <tr>\n",
       "      <th>0</th>\n",
       "      <td>Toyota</td>\n",
       "      <td>White</td>\n",
       "      <td>150043</td>\n",
       "      <td>4</td>\n",
       "      <td>$4,000.00</td>\n",
       "    </tr>\n",
       "    <tr>\n",
       "      <th>1</th>\n",
       "      <td>Honda</td>\n",
       "      <td>Red</td>\n",
       "      <td>87899</td>\n",
       "      <td>4</td>\n",
       "      <td>$5,000.00</td>\n",
       "    </tr>\n",
       "    <tr>\n",
       "      <th>2</th>\n",
       "      <td>Toyota</td>\n",
       "      <td>Blue</td>\n",
       "      <td>32549</td>\n",
       "      <td>3</td>\n",
       "      <td>$7,000.00</td>\n",
       "    </tr>\n",
       "    <tr>\n",
       "      <th>3</th>\n",
       "      <td>BMW</td>\n",
       "      <td>Black</td>\n",
       "      <td>11179</td>\n",
       "      <td>5</td>\n",
       "      <td>$22,000.00</td>\n",
       "    </tr>\n",
       "    <tr>\n",
       "      <th>4</th>\n",
       "      <td>Nissan</td>\n",
       "      <td>White</td>\n",
       "      <td>213095</td>\n",
       "      <td>4</td>\n",
       "      <td>$3,500.00</td>\n",
       "    </tr>\n",
       "  </tbody>\n",
       "</table>\n",
       "</div>"
      ],
      "text/plain": [
       "     Make Colour  Odometer (KM)  Doors       Price\n",
       "0  Toyota  White         150043      4   $4,000.00\n",
       "1   Honda    Red          87899      4   $5,000.00\n",
       "2  Toyota   Blue          32549      3   $7,000.00\n",
       "3     BMW  Black          11179      5  $22,000.00\n",
       "4  Nissan  White         213095      4   $3,500.00"
      ]
     },
     "execution_count": 15,
     "metadata": {},
     "output_type": "execute_result"
    }
   ],
   "source": [
    "# Show the first 5 rows of the car sales DataFrame\n",
    "df.head(5)"
   ]
  },
  {
   "cell_type": "code",
   "execution_count": 16,
   "id": "8a635b1e",
   "metadata": {
    "execution": {
     "iopub.execute_input": "2022-08-01T01:04:10.308163Z",
     "iopub.status.busy": "2022-08-01T01:04:10.307089Z",
     "iopub.status.idle": "2022-08-01T01:04:10.319909Z",
     "shell.execute_reply": "2022-08-01T01:04:10.319037Z"
    },
    "papermill": {
     "duration": 0.0327,
     "end_time": "2022-08-01T01:04:10.322033",
     "exception": false,
     "start_time": "2022-08-01T01:04:10.289333",
     "status": "completed"
    },
    "tags": []
   },
   "outputs": [
    {
     "data": {
      "text/html": [
       "<div>\n",
       "<style scoped>\n",
       "    .dataframe tbody tr th:only-of-type {\n",
       "        vertical-align: middle;\n",
       "    }\n",
       "\n",
       "    .dataframe tbody tr th {\n",
       "        vertical-align: top;\n",
       "    }\n",
       "\n",
       "    .dataframe thead th {\n",
       "        text-align: right;\n",
       "    }\n",
       "</style>\n",
       "<table border=\"1\" class=\"dataframe\">\n",
       "  <thead>\n",
       "    <tr style=\"text-align: right;\">\n",
       "      <th></th>\n",
       "      <th>Make</th>\n",
       "      <th>Colour</th>\n",
       "      <th>Odometer (KM)</th>\n",
       "      <th>Doors</th>\n",
       "      <th>Price</th>\n",
       "    </tr>\n",
       "  </thead>\n",
       "  <tbody>\n",
       "    <tr>\n",
       "      <th>0</th>\n",
       "      <td>Toyota</td>\n",
       "      <td>White</td>\n",
       "      <td>150043</td>\n",
       "      <td>4</td>\n",
       "      <td>$4,000.00</td>\n",
       "    </tr>\n",
       "    <tr>\n",
       "      <th>1</th>\n",
       "      <td>Honda</td>\n",
       "      <td>Red</td>\n",
       "      <td>87899</td>\n",
       "      <td>4</td>\n",
       "      <td>$5,000.00</td>\n",
       "    </tr>\n",
       "    <tr>\n",
       "      <th>2</th>\n",
       "      <td>Toyota</td>\n",
       "      <td>Blue</td>\n",
       "      <td>32549</td>\n",
       "      <td>3</td>\n",
       "      <td>$7,000.00</td>\n",
       "    </tr>\n",
       "    <tr>\n",
       "      <th>3</th>\n",
       "      <td>BMW</td>\n",
       "      <td>Black</td>\n",
       "      <td>11179</td>\n",
       "      <td>5</td>\n",
       "      <td>$22,000.00</td>\n",
       "    </tr>\n",
       "    <tr>\n",
       "      <th>4</th>\n",
       "      <td>Nissan</td>\n",
       "      <td>White</td>\n",
       "      <td>213095</td>\n",
       "      <td>4</td>\n",
       "      <td>$3,500.00</td>\n",
       "    </tr>\n",
       "    <tr>\n",
       "      <th>5</th>\n",
       "      <td>Toyota</td>\n",
       "      <td>Green</td>\n",
       "      <td>99213</td>\n",
       "      <td>4</td>\n",
       "      <td>$4,500.00</td>\n",
       "    </tr>\n",
       "    <tr>\n",
       "      <th>6</th>\n",
       "      <td>Honda</td>\n",
       "      <td>Blue</td>\n",
       "      <td>45698</td>\n",
       "      <td>4</td>\n",
       "      <td>$7,500.00</td>\n",
       "    </tr>\n",
       "  </tbody>\n",
       "</table>\n",
       "</div>"
      ],
      "text/plain": [
       "     Make Colour  Odometer (KM)  Doors       Price\n",
       "0  Toyota  White         150043      4   $4,000.00\n",
       "1   Honda    Red          87899      4   $5,000.00\n",
       "2  Toyota   Blue          32549      3   $7,000.00\n",
       "3     BMW  Black          11179      5  $22,000.00\n",
       "4  Nissan  White         213095      4   $3,500.00\n",
       "5  Toyota  Green          99213      4   $4,500.00\n",
       "6   Honda   Blue          45698      4   $7,500.00"
      ]
     },
     "execution_count": 16,
     "metadata": {},
     "output_type": "execute_result"
    }
   ],
   "source": [
    "# Show the first 7 rows of the car sales DataFrame\n",
    "df.head(7)"
   ]
  },
  {
   "cell_type": "code",
   "execution_count": 17,
   "id": "ab618982",
   "metadata": {
    "execution": {
     "iopub.execute_input": "2022-08-01T01:04:10.359647Z",
     "iopub.status.busy": "2022-08-01T01:04:10.358280Z",
     "iopub.status.idle": "2022-08-01T01:04:10.371052Z",
     "shell.execute_reply": "2022-08-01T01:04:10.370040Z"
    },
    "papermill": {
     "duration": 0.033989,
     "end_time": "2022-08-01T01:04:10.373347",
     "exception": false,
     "start_time": "2022-08-01T01:04:10.339358",
     "status": "completed"
    },
    "tags": []
   },
   "outputs": [
    {
     "data": {
      "text/html": [
       "<div>\n",
       "<style scoped>\n",
       "    .dataframe tbody tr th:only-of-type {\n",
       "        vertical-align: middle;\n",
       "    }\n",
       "\n",
       "    .dataframe tbody tr th {\n",
       "        vertical-align: top;\n",
       "    }\n",
       "\n",
       "    .dataframe thead th {\n",
       "        text-align: right;\n",
       "    }\n",
       "</style>\n",
       "<table border=\"1\" class=\"dataframe\">\n",
       "  <thead>\n",
       "    <tr style=\"text-align: right;\">\n",
       "      <th></th>\n",
       "      <th>Make</th>\n",
       "      <th>Colour</th>\n",
       "      <th>Odometer (KM)</th>\n",
       "      <th>Doors</th>\n",
       "      <th>Price</th>\n",
       "    </tr>\n",
       "  </thead>\n",
       "  <tbody>\n",
       "    <tr>\n",
       "      <th>5</th>\n",
       "      <td>Toyota</td>\n",
       "      <td>Green</td>\n",
       "      <td>99213</td>\n",
       "      <td>4</td>\n",
       "      <td>$4,500.00</td>\n",
       "    </tr>\n",
       "    <tr>\n",
       "      <th>6</th>\n",
       "      <td>Honda</td>\n",
       "      <td>Blue</td>\n",
       "      <td>45698</td>\n",
       "      <td>4</td>\n",
       "      <td>$7,500.00</td>\n",
       "    </tr>\n",
       "    <tr>\n",
       "      <th>7</th>\n",
       "      <td>Honda</td>\n",
       "      <td>Blue</td>\n",
       "      <td>54738</td>\n",
       "      <td>4</td>\n",
       "      <td>$7,000.00</td>\n",
       "    </tr>\n",
       "    <tr>\n",
       "      <th>8</th>\n",
       "      <td>Toyota</td>\n",
       "      <td>White</td>\n",
       "      <td>60000</td>\n",
       "      <td>4</td>\n",
       "      <td>$6,250.00</td>\n",
       "    </tr>\n",
       "    <tr>\n",
       "      <th>9</th>\n",
       "      <td>Nissan</td>\n",
       "      <td>White</td>\n",
       "      <td>31600</td>\n",
       "      <td>4</td>\n",
       "      <td>$9,700.00</td>\n",
       "    </tr>\n",
       "  </tbody>\n",
       "</table>\n",
       "</div>"
      ],
      "text/plain": [
       "     Make Colour  Odometer (KM)  Doors      Price\n",
       "5  Toyota  Green          99213      4  $4,500.00\n",
       "6   Honda   Blue          45698      4  $7,500.00\n",
       "7   Honda   Blue          54738      4  $7,000.00\n",
       "8  Toyota  White          60000      4  $6,250.00\n",
       "9  Nissan  White          31600      4  $9,700.00"
      ]
     },
     "execution_count": 17,
     "metadata": {},
     "output_type": "execute_result"
    }
   ],
   "source": [
    "# Show the bottom 5 rows of the car sales DataFrame\n",
    "df.tail(5)"
   ]
  },
  {
   "cell_type": "code",
   "execution_count": 18,
   "id": "bc9b42c5",
   "metadata": {
    "execution": {
     "iopub.execute_input": "2022-08-01T01:04:10.410358Z",
     "iopub.status.busy": "2022-08-01T01:04:10.409978Z",
     "iopub.status.idle": "2022-08-01T01:04:10.418172Z",
     "shell.execute_reply": "2022-08-01T01:04:10.417059Z"
    },
    "papermill": {
     "duration": 0.029319,
     "end_time": "2022-08-01T01:04:10.420357",
     "exception": false,
     "start_time": "2022-08-01T01:04:10.391038",
     "status": "completed"
    },
    "tags": []
   },
   "outputs": [
    {
     "data": {
      "text/plain": [
       "Make                    BMW\n",
       "Colour                Black\n",
       "Odometer (KM)         11179\n",
       "Doors                     5\n",
       "Price            $22,000.00\n",
       "Name: 3, dtype: object"
      ]
     },
     "execution_count": 18,
     "metadata": {},
     "output_type": "execute_result"
    }
   ],
   "source": [
    "# Use .loc to select the row at index 3 of the car sales DataFrame\n",
    "df.loc[3]"
   ]
  },
  {
   "cell_type": "code",
   "execution_count": 19,
   "id": "97547cc2",
   "metadata": {
    "execution": {
     "iopub.execute_input": "2022-08-01T01:04:10.456562Z",
     "iopub.status.busy": "2022-08-01T01:04:10.455954Z",
     "iopub.status.idle": "2022-08-01T01:04:10.462826Z",
     "shell.execute_reply": "2022-08-01T01:04:10.462110Z"
    },
    "papermill": {
     "duration": 0.027066,
     "end_time": "2022-08-01T01:04:10.464862",
     "exception": false,
     "start_time": "2022-08-01T01:04:10.437796",
     "status": "completed"
    },
    "tags": []
   },
   "outputs": [
    {
     "data": {
      "text/plain": [
       "Make                    BMW\n",
       "Colour                Black\n",
       "Odometer (KM)         11179\n",
       "Doors                     5\n",
       "Price            $22,000.00\n",
       "Name: 3, dtype: object"
      ]
     },
     "execution_count": 19,
     "metadata": {},
     "output_type": "execute_result"
    }
   ],
   "source": [
    "# Use .iloc to select the row at position 3 of the car sales DataFrame\n",
    "df.iloc[3]"
   ]
  },
  {
   "cell_type": "markdown",
   "id": "c02d82ee",
   "metadata": {
    "papermill": {
     "duration": 0.017366,
     "end_time": "2022-08-01T01:04:10.499784",
     "exception": false,
     "start_time": "2022-08-01T01:04:10.482418",
     "status": "completed"
    },
    "tags": []
   },
   "source": [
    "Notice how they're the same? Why do you think this is? \n",
    "\n",
    "Check the pandas documentation for [.loc](https://pandas.pydata.org/pandas-docs/stable/reference/api/pandas.DataFrame.loc.html) and [.iloc](https://pandas.pydata.org/pandas-docs/stable/reference/api/pandas.DataFrame.iloc.html). Think about a different situation each could be used for and try them out."
   ]
  },
  {
   "cell_type": "code",
   "execution_count": 20,
   "id": "4efe9de1",
   "metadata": {
    "execution": {
     "iopub.execute_input": "2022-08-01T01:04:10.536985Z",
     "iopub.status.busy": "2022-08-01T01:04:10.536311Z",
     "iopub.status.idle": "2022-08-01T01:04:10.542705Z",
     "shell.execute_reply": "2022-08-01T01:04:10.541939Z"
    },
    "papermill": {
     "duration": 0.027721,
     "end_time": "2022-08-01T01:04:10.544785",
     "exception": false,
     "start_time": "2022-08-01T01:04:10.517064",
     "status": "completed"
    },
    "tags": []
   },
   "outputs": [
    {
     "data": {
      "text/plain": [
       "0    150043\n",
       "1     87899\n",
       "2     32549\n",
       "3     11179\n",
       "4    213095\n",
       "5     99213\n",
       "6     45698\n",
       "7     54738\n",
       "8     60000\n",
       "9     31600\n",
       "Name: Odometer (KM), dtype: int64"
      ]
     },
     "execution_count": 20,
     "metadata": {},
     "output_type": "execute_result"
    }
   ],
   "source": [
    "# Select the \"Odometer (KM)\" column from the car sales DataFrame\n",
    "df['Odometer (KM)']"
   ]
  },
  {
   "cell_type": "code",
   "execution_count": 21,
   "id": "00085cba",
   "metadata": {
    "execution": {
     "iopub.execute_input": "2022-08-01T01:04:10.583313Z",
     "iopub.status.busy": "2022-08-01T01:04:10.582700Z",
     "iopub.status.idle": "2022-08-01T01:04:10.588927Z",
     "shell.execute_reply": "2022-08-01T01:04:10.588167Z"
    },
    "papermill": {
     "duration": 0.027772,
     "end_time": "2022-08-01T01:04:10.591036",
     "exception": false,
     "start_time": "2022-08-01T01:04:10.563264",
     "status": "completed"
    },
    "tags": []
   },
   "outputs": [
    {
     "data": {
      "text/plain": [
       "78601.4"
      ]
     },
     "execution_count": 21,
     "metadata": {},
     "output_type": "execute_result"
    }
   ],
   "source": [
    "# Find the mean of the \"Odometer (KM)\" column in the car sales DataFrame\n",
    "df['Odometer (KM)'].mean()"
   ]
  },
  {
   "cell_type": "code",
   "execution_count": 22,
   "id": "24cf79c2",
   "metadata": {
    "execution": {
     "iopub.execute_input": "2022-08-01T01:04:10.628210Z",
     "iopub.status.busy": "2022-08-01T01:04:10.627597Z",
     "iopub.status.idle": "2022-08-01T01:04:10.631940Z",
     "shell.execute_reply": "2022-08-01T01:04:10.631014Z"
    },
    "papermill": {
     "duration": 0.025391,
     "end_time": "2022-08-01T01:04:10.634093",
     "exception": false,
     "start_time": "2022-08-01T01:04:10.608702",
     "status": "completed"
    },
    "tags": []
   },
   "outputs": [],
   "source": [
    "# Select the rows with over 100,000 kilometers on the Odometer\n",
    "df['Odometer (KM)'] = 100000"
   ]
  },
  {
   "cell_type": "code",
   "execution_count": 23,
   "id": "a382c672",
   "metadata": {
    "execution": {
     "iopub.execute_input": "2022-08-01T01:04:10.672058Z",
     "iopub.status.busy": "2022-08-01T01:04:10.671399Z",
     "iopub.status.idle": "2022-08-01T01:04:10.675542Z",
     "shell.execute_reply": "2022-08-01T01:04:10.674762Z"
    },
    "papermill": {
     "duration": 0.025585,
     "end_time": "2022-08-01T01:04:10.677612",
     "exception": false,
     "start_time": "2022-08-01T01:04:10.652027",
     "status": "completed"
    },
    "tags": []
   },
   "outputs": [],
   "source": [
    "# Create a crosstab of the Make and Doors columns\n"
   ]
  },
  {
   "cell_type": "code",
   "execution_count": 24,
   "id": "5d02a2fe",
   "metadata": {
    "execution": {
     "iopub.execute_input": "2022-08-01T01:04:10.715643Z",
     "iopub.status.busy": "2022-08-01T01:04:10.714946Z",
     "iopub.status.idle": "2022-08-01T01:04:10.718649Z",
     "shell.execute_reply": "2022-08-01T01:04:10.717947Z"
    },
    "papermill": {
     "duration": 0.024644,
     "end_time": "2022-08-01T01:04:10.720499",
     "exception": false,
     "start_time": "2022-08-01T01:04:10.695855",
     "status": "completed"
    },
    "tags": []
   },
   "outputs": [],
   "source": [
    "# Group columns of the car sales DataFrame by the Make column and find the average\n"
   ]
  },
  {
   "cell_type": "code",
   "execution_count": 25,
   "id": "db54b6bd",
   "metadata": {
    "execution": {
     "iopub.execute_input": "2022-08-01T01:04:10.758300Z",
     "iopub.status.busy": "2022-08-01T01:04:10.757657Z",
     "iopub.status.idle": "2022-08-01T01:04:10.762075Z",
     "shell.execute_reply": "2022-08-01T01:04:10.760931Z"
    },
    "papermill": {
     "duration": 0.026206,
     "end_time": "2022-08-01T01:04:10.764652",
     "exception": false,
     "start_time": "2022-08-01T01:04:10.738446",
     "status": "completed"
    },
    "tags": []
   },
   "outputs": [],
   "source": [
    "# Import Matplotlib and create a plot of the Odometer column\n",
    "# Don't forget to use %matplotlib inline\n"
   ]
  },
  {
   "cell_type": "code",
   "execution_count": 26,
   "id": "c1bee833",
   "metadata": {
    "execution": {
     "iopub.execute_input": "2022-08-01T01:04:10.806249Z",
     "iopub.status.busy": "2022-08-01T01:04:10.805741Z",
     "iopub.status.idle": "2022-08-01T01:04:10.810568Z",
     "shell.execute_reply": "2022-08-01T01:04:10.809232Z"
    },
    "papermill": {
     "duration": 0.029093,
     "end_time": "2022-08-01T01:04:10.813595",
     "exception": false,
     "start_time": "2022-08-01T01:04:10.784502",
     "status": "completed"
    },
    "tags": []
   },
   "outputs": [],
   "source": [
    "# Create a histogram of the Odometer column using hist()\n"
   ]
  },
  {
   "cell_type": "code",
   "execution_count": 27,
   "id": "7f249b46",
   "metadata": {
    "execution": {
     "iopub.execute_input": "2022-08-01T01:04:10.857963Z",
     "iopub.status.busy": "2022-08-01T01:04:10.857441Z",
     "iopub.status.idle": "2022-08-01T01:04:10.862305Z",
     "shell.execute_reply": "2022-08-01T01:04:10.861261Z"
    },
    "papermill": {
     "duration": 0.030148,
     "end_time": "2022-08-01T01:04:10.864556",
     "exception": false,
     "start_time": "2022-08-01T01:04:10.834408",
     "status": "completed"
    },
    "tags": []
   },
   "outputs": [],
   "source": [
    "# Try to plot the Price column using plot()\n"
   ]
  },
  {
   "cell_type": "markdown",
   "id": "10665ec9",
   "metadata": {
    "papermill": {
     "duration": 0.018723,
     "end_time": "2022-08-01T01:04:10.902125",
     "exception": false,
     "start_time": "2022-08-01T01:04:10.883402",
     "status": "completed"
    },
    "tags": []
   },
   "source": [
    "Why didn't it work? Can you think of a solution?\n",
    "\n",
    "You might want to search for \"how to convert a pandas string column to numbers\".\n",
    "\n",
    "And if you're still stuck, check out this [Stack Overflow question and answer on turning a price column into integers](https://stackoverflow.com/questions/44469313/price-column-object-to-int-in-pandas).\n",
    "\n",
    "See how you can provide the example code there to the problem here."
   ]
  },
  {
   "cell_type": "code",
   "execution_count": 28,
   "id": "5bd3fb39",
   "metadata": {
    "execution": {
     "iopub.execute_input": "2022-08-01T01:04:10.943744Z",
     "iopub.status.busy": "2022-08-01T01:04:10.942858Z",
     "iopub.status.idle": "2022-08-01T01:04:10.947903Z",
     "shell.execute_reply": "2022-08-01T01:04:10.946973Z"
    },
    "papermill": {
     "duration": 0.029727,
     "end_time": "2022-08-01T01:04:10.950307",
     "exception": false,
     "start_time": "2022-08-01T01:04:10.920580",
     "status": "completed"
    },
    "tags": []
   },
   "outputs": [],
   "source": [
    "# Remove the punctuation from price column\n"
   ]
  },
  {
   "cell_type": "code",
   "execution_count": 29,
   "id": "bb1a3d42",
   "metadata": {
    "execution": {
     "iopub.execute_input": "2022-08-01T01:04:10.990258Z",
     "iopub.status.busy": "2022-08-01T01:04:10.989463Z",
     "iopub.status.idle": "2022-08-01T01:04:10.994232Z",
     "shell.execute_reply": "2022-08-01T01:04:10.993234Z"
    },
    "papermill": {
     "duration": 0.027613,
     "end_time": "2022-08-01T01:04:10.996556",
     "exception": false,
     "start_time": "2022-08-01T01:04:10.968943",
     "status": "completed"
    },
    "tags": []
   },
   "outputs": [],
   "source": [
    "# Check the changes to the price column\n"
   ]
  },
  {
   "cell_type": "code",
   "execution_count": 30,
   "id": "ff99769d",
   "metadata": {
    "execution": {
     "iopub.execute_input": "2022-08-01T01:04:11.037198Z",
     "iopub.status.busy": "2022-08-01T01:04:11.036284Z",
     "iopub.status.idle": "2022-08-01T01:04:11.041241Z",
     "shell.execute_reply": "2022-08-01T01:04:11.040229Z"
    },
    "papermill": {
     "duration": 0.028625,
     "end_time": "2022-08-01T01:04:11.044061",
     "exception": false,
     "start_time": "2022-08-01T01:04:11.015436",
     "status": "completed"
    },
    "tags": []
   },
   "outputs": [],
   "source": [
    "# Remove the two extra zeros at the end of the price column\n"
   ]
  },
  {
   "cell_type": "code",
   "execution_count": 31,
   "id": "8edb2135",
   "metadata": {
    "execution": {
     "iopub.execute_input": "2022-08-01T01:04:11.092967Z",
     "iopub.status.busy": "2022-08-01T01:04:11.092505Z",
     "iopub.status.idle": "2022-08-01T01:04:11.097709Z",
     "shell.execute_reply": "2022-08-01T01:04:11.096649Z"
    },
    "papermill": {
     "duration": 0.029832,
     "end_time": "2022-08-01T01:04:11.100107",
     "exception": false,
     "start_time": "2022-08-01T01:04:11.070275",
     "status": "completed"
    },
    "tags": []
   },
   "outputs": [],
   "source": [
    "# Check the changes to the Price column\n"
   ]
  },
  {
   "cell_type": "code",
   "execution_count": 32,
   "id": "955d41fc",
   "metadata": {
    "execution": {
     "iopub.execute_input": "2022-08-01T01:04:11.145873Z",
     "iopub.status.busy": "2022-08-01T01:04:11.144984Z",
     "iopub.status.idle": "2022-08-01T01:04:11.150013Z",
     "shell.execute_reply": "2022-08-01T01:04:11.149207Z"
    },
    "papermill": {
     "duration": 0.029532,
     "end_time": "2022-08-01T01:04:11.152394",
     "exception": false,
     "start_time": "2022-08-01T01:04:11.122862",
     "status": "completed"
    },
    "tags": []
   },
   "outputs": [],
   "source": [
    "# Change the datatype of the Price column to integers\n"
   ]
  },
  {
   "cell_type": "code",
   "execution_count": 33,
   "id": "6dca4012",
   "metadata": {
    "execution": {
     "iopub.execute_input": "2022-08-01T01:04:11.193287Z",
     "iopub.status.busy": "2022-08-01T01:04:11.192221Z",
     "iopub.status.idle": "2022-08-01T01:04:11.197497Z",
     "shell.execute_reply": "2022-08-01T01:04:11.196700Z"
    },
    "papermill": {
     "duration": 0.027818,
     "end_time": "2022-08-01T01:04:11.199819",
     "exception": false,
     "start_time": "2022-08-01T01:04:11.172001",
     "status": "completed"
    },
    "tags": []
   },
   "outputs": [],
   "source": [
    "# Lower the strings of the Make column\n"
   ]
  },
  {
   "cell_type": "markdown",
   "id": "2a639487",
   "metadata": {
    "papermill": {
     "duration": 0.018049,
     "end_time": "2022-08-01T01:04:11.236441",
     "exception": false,
     "start_time": "2022-08-01T01:04:11.218392",
     "status": "completed"
    },
    "tags": []
   },
   "source": [
    "If you check the car sales DataFrame, you'll notice the Make column hasn't been lowered.\n",
    "\n",
    "How could you make these changes permanent?\n",
    "\n",
    "Try it out."
   ]
  },
  {
   "cell_type": "code",
   "execution_count": 34,
   "id": "c98013bc",
   "metadata": {
    "execution": {
     "iopub.execute_input": "2022-08-01T01:04:11.276515Z",
     "iopub.status.busy": "2022-08-01T01:04:11.275768Z",
     "iopub.status.idle": "2022-08-01T01:04:11.280233Z",
     "shell.execute_reply": "2022-08-01T01:04:11.279501Z"
    },
    "papermill": {
     "duration": 0.027337,
     "end_time": "2022-08-01T01:04:11.282483",
     "exception": false,
     "start_time": "2022-08-01T01:04:11.255146",
     "status": "completed"
    },
    "tags": []
   },
   "outputs": [],
   "source": [
    "# Make lowering the case of the Make column permanent\n"
   ]
  },
  {
   "cell_type": "code",
   "execution_count": 35,
   "id": "d813ed22",
   "metadata": {
    "execution": {
     "iopub.execute_input": "2022-08-01T01:04:11.322787Z",
     "iopub.status.busy": "2022-08-01T01:04:11.322024Z",
     "iopub.status.idle": "2022-08-01T01:04:11.326596Z",
     "shell.execute_reply": "2022-08-01T01:04:11.325843Z"
    },
    "papermill": {
     "duration": 0.027214,
     "end_time": "2022-08-01T01:04:11.328878",
     "exception": false,
     "start_time": "2022-08-01T01:04:11.301664",
     "status": "completed"
    },
    "tags": []
   },
   "outputs": [],
   "source": [
    "# Check the car sales DataFrame\n"
   ]
  },
  {
   "cell_type": "markdown",
   "id": "16b8347f",
   "metadata": {
    "papermill": {
     "duration": 0.019744,
     "end_time": "2022-08-01T01:04:11.368095",
     "exception": false,
     "start_time": "2022-08-01T01:04:11.348351",
     "status": "completed"
    },
    "tags": []
   },
   "source": [
    "Notice how the Make column stays lowered after reassigning.\n",
    "\n",
    "Now let's deal with missing data."
   ]
  },
  {
   "cell_type": "code",
   "execution_count": 36,
   "id": "23b7e880",
   "metadata": {
    "execution": {
     "iopub.execute_input": "2022-08-01T01:04:11.408479Z",
     "iopub.status.busy": "2022-08-01T01:04:11.407727Z",
     "iopub.status.idle": "2022-08-01T01:04:11.412434Z",
     "shell.execute_reply": "2022-08-01T01:04:11.411676Z"
    },
    "papermill": {
     "duration": 0.027365,
     "end_time": "2022-08-01T01:04:11.414710",
     "exception": false,
     "start_time": "2022-08-01T01:04:11.387345",
     "status": "completed"
    },
    "tags": []
   },
   "outputs": [],
   "source": [
    "# Import the car sales DataFrame with missing data (\"../data/car-sales-missing-data.csv\")\n",
    "\n",
    "\n",
    "# Check out the new DataFrame\n"
   ]
  },
  {
   "cell_type": "markdown",
   "id": "ebefe426",
   "metadata": {
    "papermill": {
     "duration": 0.018839,
     "end_time": "2022-08-01T01:04:11.452575",
     "exception": false,
     "start_time": "2022-08-01T01:04:11.433736",
     "status": "completed"
    },
    "tags": []
   },
   "source": [
    "Notice the missing values are represented as `NaN` in pandas DataFrames.\n",
    "\n",
    "Let's try fill them."
   ]
  },
  {
   "cell_type": "code",
   "execution_count": 37,
   "id": "49aa4ab6",
   "metadata": {
    "execution": {
     "iopub.execute_input": "2022-08-01T01:04:11.493699Z",
     "iopub.status.busy": "2022-08-01T01:04:11.493262Z",
     "iopub.status.idle": "2022-08-01T01:04:11.497898Z",
     "shell.execute_reply": "2022-08-01T01:04:11.496657Z"
    },
    "papermill": {
     "duration": 0.028421,
     "end_time": "2022-08-01T01:04:11.500406",
     "exception": false,
     "start_time": "2022-08-01T01:04:11.471985",
     "status": "completed"
    },
    "tags": []
   },
   "outputs": [],
   "source": [
    "# Fill the Odometer column missing values with the mean of the column inplace\n"
   ]
  },
  {
   "cell_type": "code",
   "execution_count": 38,
   "id": "867f2c22",
   "metadata": {
    "execution": {
     "iopub.execute_input": "2022-08-01T01:04:11.540144Z",
     "iopub.status.busy": "2022-08-01T01:04:11.539605Z",
     "iopub.status.idle": "2022-08-01T01:04:11.544260Z",
     "shell.execute_reply": "2022-08-01T01:04:11.543450Z"
    },
    "papermill": {
     "duration": 0.028102,
     "end_time": "2022-08-01T01:04:11.547054",
     "exception": false,
     "start_time": "2022-08-01T01:04:11.518952",
     "status": "completed"
    },
    "tags": []
   },
   "outputs": [],
   "source": [
    "# View the car sales missing DataFrame and verify the changes\n"
   ]
  },
  {
   "cell_type": "code",
   "execution_count": 39,
   "id": "0ebd460a",
   "metadata": {
    "execution": {
     "iopub.execute_input": "2022-08-01T01:04:11.590657Z",
     "iopub.status.busy": "2022-08-01T01:04:11.589911Z",
     "iopub.status.idle": "2022-08-01T01:04:11.595122Z",
     "shell.execute_reply": "2022-08-01T01:04:11.593947Z"
    },
    "papermill": {
     "duration": 0.027855,
     "end_time": "2022-08-01T01:04:11.597390",
     "exception": false,
     "start_time": "2022-08-01T01:04:11.569535",
     "status": "completed"
    },
    "tags": []
   },
   "outputs": [],
   "source": [
    "# Remove the rest of the missing data inplace\n"
   ]
  },
  {
   "cell_type": "code",
   "execution_count": 40,
   "id": "7654ba7c",
   "metadata": {
    "execution": {
     "iopub.execute_input": "2022-08-01T01:04:11.639108Z",
     "iopub.status.busy": "2022-08-01T01:04:11.637941Z",
     "iopub.status.idle": "2022-08-01T01:04:11.643304Z",
     "shell.execute_reply": "2022-08-01T01:04:11.642374Z"
    },
    "papermill": {
     "duration": 0.02925,
     "end_time": "2022-08-01T01:04:11.646260",
     "exception": false,
     "start_time": "2022-08-01T01:04:11.617010",
     "status": "completed"
    },
    "tags": []
   },
   "outputs": [],
   "source": [
    "# Verify the missing values are removed by viewing the DataFrame\n"
   ]
  },
  {
   "cell_type": "markdown",
   "id": "a7bc95bf",
   "metadata": {
    "papermill": {
     "duration": 0.019439,
     "end_time": "2022-08-01T01:04:11.687242",
     "exception": false,
     "start_time": "2022-08-01T01:04:11.667803",
     "status": "completed"
    },
    "tags": []
   },
   "source": [
    "We'll now start to add columns to our DataFrame."
   ]
  },
  {
   "cell_type": "code",
   "execution_count": 41,
   "id": "4d02f4be",
   "metadata": {
    "execution": {
     "iopub.execute_input": "2022-08-01T01:04:11.728597Z",
     "iopub.status.busy": "2022-08-01T01:04:11.728141Z",
     "iopub.status.idle": "2022-08-01T01:04:11.732823Z",
     "shell.execute_reply": "2022-08-01T01:04:11.731567Z"
    },
    "papermill": {
     "duration": 0.028329,
     "end_time": "2022-08-01T01:04:11.735258",
     "exception": false,
     "start_time": "2022-08-01T01:04:11.706929",
     "status": "completed"
    },
    "tags": []
   },
   "outputs": [],
   "source": [
    "# Create a \"Seats\" column where every row has a value of 5\n"
   ]
  },
  {
   "cell_type": "code",
   "execution_count": 42,
   "id": "a78f54fa",
   "metadata": {
    "execution": {
     "iopub.execute_input": "2022-08-01T01:04:11.776211Z",
     "iopub.status.busy": "2022-08-01T01:04:11.775753Z",
     "iopub.status.idle": "2022-08-01T01:04:11.780710Z",
     "shell.execute_reply": "2022-08-01T01:04:11.779457Z"
    },
    "papermill": {
     "duration": 0.027989,
     "end_time": "2022-08-01T01:04:11.782968",
     "exception": false,
     "start_time": "2022-08-01T01:04:11.754979",
     "status": "completed"
    },
    "tags": []
   },
   "outputs": [],
   "source": [
    "# Create a column called \"Engine Size\" with random values between 1.3 and 4.5\n",
    "# Remember: If you're doing it from a Python list, the list has to be the same length\n",
    "# as the DataFrame\n"
   ]
  },
  {
   "cell_type": "code",
   "execution_count": 43,
   "id": "6ce5dad3",
   "metadata": {
    "execution": {
     "iopub.execute_input": "2022-08-01T01:04:11.823441Z",
     "iopub.status.busy": "2022-08-01T01:04:11.823050Z",
     "iopub.status.idle": "2022-08-01T01:04:11.827492Z",
     "shell.execute_reply": "2022-08-01T01:04:11.826502Z"
    },
    "papermill": {
     "duration": 0.027355,
     "end_time": "2022-08-01T01:04:11.829775",
     "exception": false,
     "start_time": "2022-08-01T01:04:11.802420",
     "status": "completed"
    },
    "tags": []
   },
   "outputs": [],
   "source": [
    "# Create a column which represents the price of a car per kilometer\n",
    "# Then view the DataFrame\n"
   ]
  },
  {
   "cell_type": "code",
   "execution_count": 44,
   "id": "19c62512",
   "metadata": {
    "execution": {
     "iopub.execute_input": "2022-08-01T01:04:11.870158Z",
     "iopub.status.busy": "2022-08-01T01:04:11.869175Z",
     "iopub.status.idle": "2022-08-01T01:04:11.874005Z",
     "shell.execute_reply": "2022-08-01T01:04:11.873038Z"
    },
    "papermill": {
     "duration": 0.027399,
     "end_time": "2022-08-01T01:04:11.876323",
     "exception": false,
     "start_time": "2022-08-01T01:04:11.848924",
     "status": "completed"
    },
    "tags": []
   },
   "outputs": [],
   "source": [
    "# Remove the last column you added using .drop()\n"
   ]
  },
  {
   "cell_type": "code",
   "execution_count": 45,
   "id": "0f3380ae",
   "metadata": {
    "execution": {
     "iopub.execute_input": "2022-08-01T01:04:11.915824Z",
     "iopub.status.busy": "2022-08-01T01:04:11.915409Z",
     "iopub.status.idle": "2022-08-01T01:04:11.919881Z",
     "shell.execute_reply": "2022-08-01T01:04:11.918870Z"
    },
    "papermill": {
     "duration": 0.02666,
     "end_time": "2022-08-01T01:04:11.922007",
     "exception": false,
     "start_time": "2022-08-01T01:04:11.895347",
     "status": "completed"
    },
    "tags": []
   },
   "outputs": [],
   "source": [
    "# Shuffle the DataFrame using sample() with the frac parameter set to 1\n",
    "# Save the the shuffled DataFrame to a new variable\n"
   ]
  },
  {
   "cell_type": "markdown",
   "id": "8f8976d9",
   "metadata": {
    "papermill": {
     "duration": 0.018423,
     "end_time": "2022-08-01T01:04:11.958934",
     "exception": false,
     "start_time": "2022-08-01T01:04:11.940511",
     "status": "completed"
    },
    "tags": []
   },
   "source": [
    "Notice how the index numbers get moved around. The [`sample()`](https://pandas.pydata.org/pandas-docs/stable/reference/api/pandas.DataFrame.sample.html) function is a great way to get random samples from your DataFrame. It's also another great way to shuffle the rows by setting `frac=1`."
   ]
  },
  {
   "cell_type": "code",
   "execution_count": 46,
   "id": "0f35458d",
   "metadata": {
    "execution": {
     "iopub.execute_input": "2022-08-01T01:04:11.998146Z",
     "iopub.status.busy": "2022-08-01T01:04:11.997745Z",
     "iopub.status.idle": "2022-08-01T01:04:12.002299Z",
     "shell.execute_reply": "2022-08-01T01:04:12.001220Z"
    },
    "papermill": {
     "duration": 0.026639,
     "end_time": "2022-08-01T01:04:12.004372",
     "exception": false,
     "start_time": "2022-08-01T01:04:11.977733",
     "status": "completed"
    },
    "tags": []
   },
   "outputs": [],
   "source": [
    "# Reset the indexes of the shuffled DataFrame\n"
   ]
  },
  {
   "cell_type": "markdown",
   "id": "636b2b4a",
   "metadata": {
    "papermill": {
     "duration": 0.018551,
     "end_time": "2022-08-01T01:04:12.041983",
     "exception": false,
     "start_time": "2022-08-01T01:04:12.023432",
     "status": "completed"
    },
    "tags": []
   },
   "source": [
    "Notice the index numbers have been changed to have order (start from 0)."
   ]
  },
  {
   "cell_type": "code",
   "execution_count": 47,
   "id": "51f12e3d",
   "metadata": {
    "execution": {
     "iopub.execute_input": "2022-08-01T01:04:12.081828Z",
     "iopub.status.busy": "2022-08-01T01:04:12.081446Z",
     "iopub.status.idle": "2022-08-01T01:04:12.085497Z",
     "shell.execute_reply": "2022-08-01T01:04:12.084431Z"
    },
    "papermill": {
     "duration": 0.026887,
     "end_time": "2022-08-01T01:04:12.087834",
     "exception": false,
     "start_time": "2022-08-01T01:04:12.060947",
     "status": "completed"
    },
    "tags": []
   },
   "outputs": [],
   "source": [
    "# Change the Odometer values from kilometers to miles using a Lambda function\n",
    "# Then view the DataFrame\n"
   ]
  },
  {
   "cell_type": "code",
   "execution_count": 48,
   "id": "ee408607",
   "metadata": {
    "execution": {
     "iopub.execute_input": "2022-08-01T01:04:12.127940Z",
     "iopub.status.busy": "2022-08-01T01:04:12.127581Z",
     "iopub.status.idle": "2022-08-01T01:04:12.131886Z",
     "shell.execute_reply": "2022-08-01T01:04:12.130777Z"
    },
    "papermill": {
     "duration": 0.027127,
     "end_time": "2022-08-01T01:04:12.134069",
     "exception": false,
     "start_time": "2022-08-01T01:04:12.106942",
     "status": "completed"
    },
    "tags": []
   },
   "outputs": [],
   "source": [
    "# Change the title of the Odometer (KM) to represent miles instead of kilometers\n"
   ]
  },
  {
   "cell_type": "markdown",
   "id": "5a87ad54",
   "metadata": {
    "papermill": {
     "duration": 0.019767,
     "end_time": "2022-08-01T01:04:12.174103",
     "exception": false,
     "start_time": "2022-08-01T01:04:12.154336",
     "status": "completed"
    },
    "tags": []
   },
   "source": [
    "## Extensions\n",
    "\n",
    "For more exercises, check out the pandas documentation, particularly the [10-minutes to pandas section](https://pandas.pydata.org/pandas-docs/stable/user_guide/10min.html). \n",
    "\n",
    "One great exercise would be to retype out the entire section into a Jupyter Notebook of your own.\n",
    "\n",
    "Get hands-on with the code and see what it does.\n",
    "\n",
    "The next place you should check out are the [top questions and answers on Stack Overflow for pandas](https://stackoverflow.com/questions/tagged/pandas?sort=MostVotes&edited=true). Often, these contain some of the most useful and common pandas functions. Be sure to play around with the different filters!\n",
    "\n",
    "Finally, always remember, the best way to learn something new to is try it. Make mistakes. Ask questions, get things wrong, take note of the things you do most often. And don't worry if you keep making the same mistake, pandas has many ways to do the same thing and is a big library. So it'll likely take a while before you get the hang of it."
   ]
  }
 ],
 "metadata": {
  "kernelspec": {
   "display_name": "Python 3",
   "language": "python",
   "name": "python3"
  },
  "language_info": {
   "codemirror_mode": {
    "name": "ipython",
    "version": 3
   },
   "file_extension": ".py",
   "mimetype": "text/x-python",
   "name": "python",
   "nbconvert_exporter": "python",
   "pygments_lexer": "ipython3",
   "version": "3.7.12"
  },
  "papermill": {
   "default_parameters": {},
   "duration": 13.182944,
   "end_time": "2022-08-01T01:04:12.813855",
   "environment_variables": {},
   "exception": null,
   "input_path": "__notebook__.ipynb",
   "output_path": "__notebook__.ipynb",
   "parameters": {},
   "start_time": "2022-08-01T01:03:59.630911",
   "version": "2.3.4"
  }
 },
 "nbformat": 4,
 "nbformat_minor": 5
}
